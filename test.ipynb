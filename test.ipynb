{
 "cells": [
  {
   "cell_type": "code",
   "execution_count": 2,
   "id": "7c89e752-02fd-47e9-8e81-75a8d6ad6a37",
   "metadata": {},
   "outputs": [],
   "source": [
    "pi = 3.1416"
   ]
  },
  {
   "cell_type": "code",
   "execution_count": 4,
   "id": "8cc114c3-adba-455a-a283-0478006dcb7f",
   "metadata": {},
   "outputs": [
    {
     "data": {
      "text/plain": [
       "3.1416"
      ]
     },
     "execution_count": 4,
     "metadata": {},
     "output_type": "execute_result"
    }
   ],
   "source": [
    "eval(\"pi\")"
   ]
  },
  {
   "cell_type": "code",
   "execution_count": 8,
   "id": "6e5376b3-127a-46cb-a604-0e1174037a61",
   "metadata": {},
   "outputs": [
    {
     "data": {
      "text/plain": [
       "4.1416"
      ]
     },
     "execution_count": 8,
     "metadata": {},
     "output_type": "execute_result"
    }
   ],
   "source": [
    "eval(\"pi + 1\")"
   ]
  },
  {
   "cell_type": "code",
   "execution_count": null,
   "id": "e1d5e524-3d4c-4f02-8857-d788e28eeb5f",
   "metadata": {},
   "outputs": [],
   "source": []
  }
 ],
 "metadata": {
  "kernelspec": {
   "display_name": "Python 3 (ipykernel)",
   "language": "python",
   "name": "python3"
  },
  "language_info": {
   "codemirror_mode": {
    "name": "ipython",
    "version": 3
   },
   "file_extension": ".py",
   "mimetype": "text/x-python",
   "name": "python",
   "nbconvert_exporter": "python",
   "pygments_lexer": "ipython3",
   "version": "3.9.7"
  }
 },
 "nbformat": 4,
 "nbformat_minor": 5
}
