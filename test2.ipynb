{
 "cells": [
  {
   "cell_type": "code",
   "execution_count": 6,
   "id": "7c89e752-02fd-47e9-8e81-75a8d6ad6a37",
   "metadata": {},
   "outputs": [],
   "source": [
    "pi = 3.1416"
   ]
  },
  {
   "cell_type": "code",
   "execution_count": 7,
   "id": "8cc114c3-adba-455a-a283-0478006dcb7f",
   "metadata": {},
   "outputs": [
    {
     "data": {
      "text/plain": [
       "3.1416"
      ]
     },
     "execution_count": 7,
     "metadata": {},
     "output_type": "execute_result"
    }
   ],
   "source": [
    "eval(\"pi\")"
   ]
  },
  {
   "cell_type": "code",
   "execution_count": 8,
   "id": "6e5376b3-127a-46cb-a604-0e1174037a61",
   "metadata": {},
   "outputs": [
    {
     "data": {
      "text/plain": [
       "4.1416"
      ]
     },
     "execution_count": 8,
     "metadata": {},
     "output_type": "execute_result"
    }
   ],
   "source": [
    "eval(\"pi + 1\")"
   ]
  },
  {
   "cell_type": "code",
   "execution_count": 2,
   "id": "e1d5e524-3d4c-4f02-8857-d788e28eeb5f",
   "metadata": {},
   "outputs": [
    {
     "data": {
      "text/plain": [
       "torch.Size([12, 384, 512])"
      ]
     },
     "execution_count": 2,
     "metadata": {},
     "output_type": "execute_result"
    }
   ],
   "source": [
    "import torch\n",
    "import torch.nn as nn\n",
    "\n",
    "# Size: [batch_size, seq_len, input_size]\n",
    "input = torch.randn(12, 384, 768)\n",
    "\n",
    "lstm = nn.LSTM(input_size=768, hidden_size=512, batch_first=True)\n",
    "\n",
    "output, _ = lstm(input)\n",
    "output.size()  # => torch.Size([12, 384, 512])"
   ]
  },
  {
   "cell_type": "code",
   "execution_count": 10,
   "id": "2bba1a5c-cac1-4d4f-be4c-179380602ffa",
   "metadata": {},
   "outputs": [
    {
     "data": {
      "text/plain": [
       "(tensor([[[ 0.0660,  0.1668,  0.1254,  ..., -0.2001,  0.0347,  0.2424],\n",
       "          [-0.0994, -0.0378,  0.0519,  ...,  0.2637, -0.0680, -0.1766],\n",
       "          [-0.0943, -0.2104,  0.1308,  ...,  0.1129,  0.0485, -0.2648],\n",
       "          ...,\n",
       "          [ 0.2546,  0.2193,  0.0599,  ...,  0.0559, -0.0607, -0.1723],\n",
       "          [-0.2660,  0.1328,  0.0079,  ..., -0.1087, -0.2487,  0.0459],\n",
       "          [-0.1117, -0.0449,  0.4685,  ..., -0.0911,  0.1251, -0.0602]]],\n",
       "        grad_fn=<StackBackward0>),\n",
       " tensor([[[ 0.1407,  0.2978,  0.5048,  ..., -0.4086,  0.0849,  0.5962],\n",
       "          [-0.1802, -0.1695,  0.0793,  ...,  0.4429, -0.2510, -0.3452],\n",
       "          [-0.1369, -0.4153,  0.1792,  ...,  0.3951,  0.1991, -0.5190],\n",
       "          ...,\n",
       "          [ 0.4967,  0.3190,  0.1362,  ...,  0.1281, -0.0828, -0.4109],\n",
       "          [-0.4541,  0.1759,  0.0147,  ..., -0.1813, -0.7096,  0.1472],\n",
       "          [-0.2492, -0.2303,  0.7177,  ..., -0.1600,  0.5464, -0.1239]]],\n",
       "        grad_fn=<StackBackward0>))"
      ]
     },
     "execution_count": 10,
     "metadata": {},
     "output_type": "execute_result"
    }
   ],
   "source": [
    "_"
   ]
  },
  {
   "cell_type": "code",
   "execution_count": 11,
   "id": "fb214a6f-a106-4c9b-a388-739a98ebdf17",
   "metadata": {},
   "outputs": [],
   "source": [
    "# With square kernels and equal stride\n",
    "# m = nn.Conv2d(16, 33, 3, stride=2)\n",
    "\n",
    "m = nn.Conv2d(in_channels=16, out_channels=33, kernel_size=3)\n",
    "\n",
    "# # non-square kernels and unequal stride and with padding\n",
    "# m = nn.Conv2d(16, 33, (3, 5), stride=(2, 1), padding=(4, 2))\n",
    "# # non-square kernels and unequal stride and with padding and dilation\n",
    "# m = nn.Conv2d(16, 33, (3, 5), stride=(2, 1), padding=(4, 2), dilation=(3, 1))\n",
    "input = torch.randn(20, 16, 50, 100)\n",
    "output = m(input)"
   ]
  },
  {
   "cell_type": "code",
   "execution_count": 12,
   "id": "f4887e43-6126-41ee-8bdb-a4dc9345ee52",
   "metadata": {},
   "outputs": [
    {
     "data": {
      "text/plain": [
       "torch.Size([20, 33, 48, 98])"
      ]
     },
     "execution_count": 12,
     "metadata": {},
     "output_type": "execute_result"
    }
   ],
   "source": [
    "output.size()"
   ]
  },
  {
   "cell_type": "code",
   "execution_count": 13,
   "id": "813e375b-8b29-485e-96b1-20a202fe6d5b",
   "metadata": {},
   "outputs": [
    {
     "data": {
      "text/plain": [
       "torch.Size([20, 33, 24, 49])"
      ]
     },
     "execution_count": 13,
     "metadata": {},
     "output_type": "execute_result"
    }
   ],
   "source": [
    "m = nn.Conv2d(16, 33, 3, stride=2)\n",
    "input = torch.randn(20, 16, 50, 100)\n",
    "output = m(input)\n",
    "output.size()"
   ]
  },
  {
   "cell_type": "code",
   "execution_count": 14,
   "id": "70b0251e-72ec-4573-8762-91e500b68342",
   "metadata": {},
   "outputs": [
    {
     "data": {
      "text/plain": [
       "torch.Size([20, 33, 28, 100])"
      ]
     },
     "execution_count": 14,
     "metadata": {},
     "output_type": "execute_result"
    }
   ],
   "source": [
    " m = nn.Conv2d(16, 33, (3, 5), stride=(2, 1), padding=(4, 2))\n",
    "\n",
    "# # non-square kernels and unequal stride and with padding\n",
    "# m = nn.Conv2d(16, 33, (3, 5), stride=(2, 1), padding=(4, 2))\n",
    "# # non-square kernels and unequal stride and with padding and dilation\n",
    "# m = nn.Conv2d(16, 33, (3, 5), stride=(2, 1), padding=(4, 2), dilation=(3, 1))\n",
    "input = torch.randn(20, 16, 50, 100)\n",
    "output = m(input)\n",
    "output.size()"
   ]
  },
  {
   "cell_type": "code",
   "execution_count": 15,
   "id": "7d0c853c-07e0-44b3-a6b3-9c41b050d2b0",
   "metadata": {},
   "outputs": [
    {
     "name": "stdout",
     "output_type": "stream",
     "text": [
      "Using cuda device\n"
     ]
    }
   ],
   "source": [
    "# small NN model\n",
    "device = \"cuda\" if torch.cuda.is_available() else \"cpu\"\n",
    "print(f\"Using {device} device\")"
   ]
  },
  {
   "cell_type": "code",
   "execution_count": 16,
   "id": "2b421d7a-d90f-496c-9b33-3f28ddd69db5",
   "metadata": {},
   "outputs": [],
   "source": [
    "class NeuralNetwork(nn.Module):\n",
    "    def __init__(self):\n",
    "        super(NeuralNetwork, self).__init__()\n",
    "        self.flatten = nn.Flatten()\n",
    "        self.linear_relu_stack = nn.Sequential(\n",
    "            nn.Linear(28*28, 512),\n",
    "            nn.ReLU(),\n",
    "            nn.Linear(512, 512),\n",
    "            nn.ReLU(),\n",
    "            nn.Linear(512, 10),\n",
    "        )\n",
    "\n",
    "    def forward(self, x):\n",
    "        x = self.flatten(x)\n",
    "        logits = self.linear_relu_stack(x)\n",
    "        return logits"
   ]
  },
  {
   "cell_type": "code",
   "execution_count": 17,
   "id": "dd2e6606-fdaf-46af-80da-5c8e645a1fdc",
   "metadata": {},
   "outputs": [
    {
     "name": "stdout",
     "output_type": "stream",
     "text": [
      "NeuralNetwork(\n",
      "  (flatten): Flatten(start_dim=1, end_dim=-1)\n",
      "  (linear_relu_stack): Sequential(\n",
      "    (0): Linear(in_features=784, out_features=512, bias=True)\n",
      "    (1): ReLU()\n",
      "    (2): Linear(in_features=512, out_features=512, bias=True)\n",
      "    (3): ReLU()\n",
      "    (4): Linear(in_features=512, out_features=10, bias=True)\n",
      "  )\n",
      ")\n"
     ]
    }
   ],
   "source": [
    "model = NeuralNetwork().to(device)\n",
    "print(model)"
   ]
  },
  {
   "cell_type": "code",
   "execution_count": 18,
   "id": "6f147f00-c4ae-43cc-8433-09d332271ac0",
   "metadata": {},
   "outputs": [
    {
     "name": "stdout",
     "output_type": "stream",
     "text": [
      "Predicted class: tensor([5], device='cuda:0')\n"
     ]
    }
   ],
   "source": [
    "X = torch.rand(1, 28, 28, device=device)\n",
    "logits = model(X)\n",
    "pred_probab = nn.Softmax(dim=1)(logits)\n",
    "y_pred = pred_probab.argmax(1)\n",
    "print(f\"Predicted class: {y_pred}\")"
   ]
  },
  {
   "cell_type": "code",
   "execution_count": 19,
   "id": "b901cc6b-5af4-4011-b9df-28c1ef58b7df",
   "metadata": {},
   "outputs": [
    {
     "data": {
      "text/plain": [
       "torch.Size([1, 28, 28])"
      ]
     },
     "execution_count": 19,
     "metadata": {},
     "output_type": "execute_result"
    }
   ],
   "source": [
    "X.size()"
   ]
  },
  {
   "cell_type": "code",
   "execution_count": 20,
   "id": "2d662a43-89c1-4c0b-b1dc-1f716fd24256",
   "metadata": {},
   "outputs": [
    {
     "data": {
      "text/plain": [
       "torch.Size([1, 10])"
      ]
     },
     "execution_count": 20,
     "metadata": {},
     "output_type": "execute_result"
    }
   ],
   "source": [
    "logits.size()"
   ]
  },
  {
   "cell_type": "code",
   "execution_count": 21,
   "id": "ad298316-6595-4f53-bebd-86b9b189ac08",
   "metadata": {},
   "outputs": [
    {
     "data": {
      "text/plain": [
       "tensor([[-0.1119, -0.0031,  0.0117,  0.0120,  0.0352,  0.1063, -0.1120,  0.0162,\n",
       "          0.0227,  0.0593]], device='cuda:0', grad_fn=<AddmmBackward0>)"
      ]
     },
     "execution_count": 21,
     "metadata": {},
     "output_type": "execute_result"
    }
   ],
   "source": [
    "logits"
   ]
  },
  {
   "cell_type": "code",
   "execution_count": 22,
   "id": "b8b688dd-0286-4e57-bec9-e228f83be9e4",
   "metadata": {},
   "outputs": [],
   "source": [
    "data = [[1, 2], [3, 4]]\n",
    "x_data = torch.tensor(data)"
   ]
  },
  {
   "cell_type": "code",
   "execution_count": 23,
   "id": "cf779a38-3dbd-419a-aa19-5aab542f187c",
   "metadata": {},
   "outputs": [
    {
     "data": {
      "text/plain": [
       "tensor([[1, 2],\n",
       "        [3, 4]])"
      ]
     },
     "execution_count": 23,
     "metadata": {},
     "output_type": "execute_result"
    }
   ],
   "source": [
    "x_data"
   ]
  },
  {
   "cell_type": "code",
   "execution_count": 24,
   "id": "0c1e6b05-9c3f-487e-996d-4eedfc442d5b",
   "metadata": {},
   "outputs": [
    {
     "data": {
      "text/plain": [
       "tensor([[[1, 2]],\n",
       "\n",
       "        [[3, 4]]])"
      ]
     },
     "execution_count": 24,
     "metadata": {},
     "output_type": "execute_result"
    }
   ],
   "source": [
    "x_data.unsqueeze(1)"
   ]
  },
  {
   "cell_type": "code",
   "execution_count": 25,
   "id": "dfff93d4-beec-408c-b469-0c83adaabfd4",
   "metadata": {},
   "outputs": [],
   "source": [
    "x = torch.tensor([1, 2, 3, 4])"
   ]
  },
  {
   "cell_type": "code",
   "execution_count": 26,
   "id": "1fd6b416-eed0-4e52-aab7-58ad7e3ecc80",
   "metadata": {},
   "outputs": [
    {
     "data": {
      "text/plain": [
       "tensor([[1],\n",
       "        [2],\n",
       "        [3],\n",
       "        [4]])"
      ]
     },
     "execution_count": 26,
     "metadata": {},
     "output_type": "execute_result"
    }
   ],
   "source": [
    "x.unsqueeze(1)"
   ]
  },
  {
   "cell_type": "code",
   "execution_count": 27,
   "id": "01933e41-4739-4699-b6a1-25d778f87cc8",
   "metadata": {},
   "outputs": [
    {
     "data": {
      "text/plain": [
       "torch.Size([4])"
      ]
     },
     "execution_count": 27,
     "metadata": {},
     "output_type": "execute_result"
    }
   ],
   "source": [
    "x.size()"
   ]
  },
  {
   "cell_type": "code",
   "execution_count": 28,
   "id": "1b58b09c-ff20-4697-a42b-fd7cf8e79e72",
   "metadata": {},
   "outputs": [
    {
     "data": {
      "text/plain": [
       "torch.Size([4, 1])"
      ]
     },
     "execution_count": 28,
     "metadata": {},
     "output_type": "execute_result"
    }
   ],
   "source": [
    "x.unsqueeze(1).size()"
   ]
  },
  {
   "cell_type": "code",
   "execution_count": 29,
   "id": "bc5cb0b3-ec22-4d96-b7b4-0ec289ea36a5",
   "metadata": {},
   "outputs": [],
   "source": [
    "X = torch.rand(5,1,120)"
   ]
  },
  {
   "cell_type": "code",
   "execution_count": 30,
   "id": "f8de0dae-6021-45d6-847b-016e600a3d64",
   "metadata": {},
   "outputs": [
    {
     "data": {
      "text/plain": [
       "torch.Size([5, 1, 1, 120])"
      ]
     },
     "execution_count": 30,
     "metadata": {},
     "output_type": "execute_result"
    }
   ],
   "source": [
    "X.unsqueeze(1).size()"
   ]
  },
  {
   "cell_type": "code",
   "execution_count": 31,
   "id": "2dd61669-e78c-4250-bb8d-57a8aaddba19",
   "metadata": {},
   "outputs": [],
   "source": [
    "# With square kernels and equal stride\n",
    "m = nn.Conv2d(1, 400, (3,3))\n",
    "# non-square kernels and unequal stride and with padding\n",
    "# m = nn.Conv2d(16, 33, (3, 5), stride=(2, 1), padding=(4, 2))\n",
    "# # non-square kernels and unequal stride and with padding and dilation\n",
    "# m = nn.Conv2d(16, 33, (3, 5), stride=(2, 1), padding=(4, 2), dilation=(3, 1))\n",
    "# input = torch.randn(20, 16, 50, 100)\n",
    "# output = m(input)"
   ]
  },
  {
   "cell_type": "code",
   "execution_count": 32,
   "id": "7bb38aa0-92a4-481e-85d7-3fbcddee53b3",
   "metadata": {},
   "outputs": [
    {
     "data": {
      "text/plain": [
       "Conv2d(1, 400, kernel_size=(3, 3), stride=(1, 1))"
      ]
     },
     "execution_count": 32,
     "metadata": {},
     "output_type": "execute_result"
    }
   ],
   "source": [
    "m"
   ]
  },
  {
   "cell_type": "code",
   "execution_count": 33,
   "id": "e7a2e5a5-ab10-4f2d-9644-3f1b6348ce9d",
   "metadata": {},
   "outputs": [],
   "source": [
    "# input = torch.randn(20, 16, 50, 100)\n",
    "input = torch.randn(22, 1, 3, 125)"
   ]
  },
  {
   "cell_type": "code",
   "execution_count": 34,
   "id": "1c57c7be-d3db-41ad-9738-28cbc86242dc",
   "metadata": {},
   "outputs": [],
   "source": [
    "output = m(input)"
   ]
  },
  {
   "cell_type": "code",
   "execution_count": 35,
   "id": "001af134-63a4-4ed2-a690-ff3a2c6b6a0e",
   "metadata": {},
   "outputs": [
    {
     "data": {
      "text/plain": [
       "torch.Size([22, 400, 1, 123])"
      ]
     },
     "execution_count": 35,
     "metadata": {},
     "output_type": "execute_result"
    }
   ],
   "source": [
    "output.size()"
   ]
  },
  {
   "cell_type": "code",
   "execution_count": null,
   "id": "d0f8baab-b07b-42e8-bc82-e9d961227bd8",
   "metadata": {},
   "outputs": [],
   "source": []
  },
  {
   "cell_type": "code",
   "execution_count": null,
   "id": "e9bc947a-7607-4b92-8a6c-141a06495c3b",
   "metadata": {},
   "outputs": [],
   "source": []
  },
  {
   "cell_type": "code",
   "execution_count": 36,
   "id": "2cae916f-e83c-462f-885b-02ea49e4f6ad",
   "metadata": {},
   "outputs": [],
   "source": [
    "## word cnn\n",
    "word_cnn3 = nn.Conv2d(in_channels=1, out_channels=400, kernel_size=(3, 100), padding=(1,0))"
   ]
  },
  {
   "cell_type": "code",
   "execution_count": 37,
   "id": "33592748-4326-4ab5-9b3b-8ce94e5629f4",
   "metadata": {},
   "outputs": [
    {
     "data": {
      "text/plain": [
       "Conv2d(1, 400, kernel_size=(3, 100), stride=(1, 1), padding=(1, 0))"
      ]
     },
     "execution_count": 37,
     "metadata": {},
     "output_type": "execute_result"
    }
   ],
   "source": [
    "word_cnn3"
   ]
  },
  {
   "cell_type": "code",
   "execution_count": 38,
   "id": "8a529198-4e9e-4f0c-a2e9-2ae95ad433ae",
   "metadata": {},
   "outputs": [],
   "source": [
    "word_embeds = torch.randn(11,100)"
   ]
  },
  {
   "cell_type": "code",
   "execution_count": 39,
   "id": "87e24c1b-624f-476e-b0e9-07095b588233",
   "metadata": {},
   "outputs": [],
   "source": [
    "word_embeds = word_embeds.unsqueeze(1)"
   ]
  },
  {
   "cell_type": "code",
   "execution_count": 40,
   "id": "b5b8c74a-7c09-4357-8c84-150f78bd1590",
   "metadata": {},
   "outputs": [],
   "source": [
    "word_embeds = word_embeds.unsqueeze(1)"
   ]
  },
  {
   "cell_type": "code",
   "execution_count": 41,
   "id": "e718b8f3-fdef-4847-9d6f-66af453825f6",
   "metadata": {},
   "outputs": [
    {
     "data": {
      "text/plain": [
       "torch.Size([11, 1, 1, 100])"
      ]
     },
     "execution_count": 41,
     "metadata": {},
     "output_type": "execute_result"
    }
   ],
   "source": [
    "word_embeds.size()"
   ]
  },
  {
   "cell_type": "code",
   "execution_count": 42,
   "id": "26ef8de1-1d38-41a9-a648-e1b654c820a4",
   "metadata": {},
   "outputs": [],
   "source": [
    "output = word_cnn3(word_embeds)"
   ]
  },
  {
   "cell_type": "code",
   "execution_count": 43,
   "id": "54da0494-7719-48fc-8144-e9e69887cc0d",
   "metadata": {},
   "outputs": [
    {
     "data": {
      "text/plain": [
       "torch.Size([11, 400, 1, 1])"
      ]
     },
     "execution_count": 43,
     "metadata": {},
     "output_type": "execute_result"
    }
   ],
   "source": [
    "output.size()"
   ]
  },
  {
   "cell_type": "code",
   "execution_count": 44,
   "id": "f7a16a59-a252-4f3d-86b1-6df8318a9abf",
   "metadata": {},
   "outputs": [
    {
     "data": {
      "text/plain": [
       "torch.Size([11, 400])"
      ]
     },
     "execution_count": 44,
     "metadata": {},
     "output_type": "execute_result"
    }
   ],
   "source": [
    "output.squeeze().size()"
   ]
  },
  {
   "cell_type": "code",
   "execution_count": null,
   "id": "6349bc3b-9b39-4c08-93f0-d7ec2d6580fb",
   "metadata": {},
   "outputs": [],
   "source": []
  },
  {
   "cell_type": "code",
   "execution_count": null,
   "id": "e505811e-322c-42a0-ae33-5a5c84d890c4",
   "metadata": {},
   "outputs": [],
   "source": []
  },
  {
   "cell_type": "code",
   "execution_count": 45,
   "id": "4705032a-3a5d-4a8f-b798-7d40851d2d08",
   "metadata": {},
   "outputs": [],
   "source": [
    "word_cnn_out3 = torch.randn(37, 400, 3, 76)"
   ]
  },
  {
   "cell_type": "code",
   "execution_count": 46,
   "id": "199baa77-0e64-4700-954f-65ae81e29013",
   "metadata": {},
   "outputs": [
    {
     "ename": "RuntimeError",
     "evalue": "Given input size: (400x1x1). Calculated output size: (400x0x0). Output size is too small",
     "output_type": "error",
     "traceback": [
      "\u001b[1;31m---------------------------------------------------------------------------\u001b[0m",
      "\u001b[1;31mRuntimeError\u001b[0m                              Traceback (most recent call last)",
      "\u001b[1;32m~\\AppData\\Local\\Temp/ipykernel_41844/697414349.py\u001b[0m in \u001b[0;36m<module>\u001b[1;34m\u001b[0m\n\u001b[1;32m----> 1\u001b[1;33m mp = nn.functional.max_pool2d(output,\n\u001b[0m\u001b[0;32m      2\u001b[0m                             kernel_size=(word_cnn_out3.size(2), 76)).view(word_cnn_out3.size(0), 400)\n",
      "\u001b[1;32m~\\anaconda3\\envs\\deeplearning\\lib\\site-packages\\torch\\_jit_internal.py\u001b[0m in \u001b[0;36mfn\u001b[1;34m(*args, **kwargs)\u001b[0m\n\u001b[0;32m    420\u001b[0m             \u001b[1;32mreturn\u001b[0m \u001b[0mif_true\u001b[0m\u001b[1;33m(\u001b[0m\u001b[1;33m*\u001b[0m\u001b[0margs\u001b[0m\u001b[1;33m,\u001b[0m \u001b[1;33m**\u001b[0m\u001b[0mkwargs\u001b[0m\u001b[1;33m)\u001b[0m\u001b[1;33m\u001b[0m\u001b[1;33m\u001b[0m\u001b[0m\n\u001b[0;32m    421\u001b[0m         \u001b[1;32melse\u001b[0m\u001b[1;33m:\u001b[0m\u001b[1;33m\u001b[0m\u001b[1;33m\u001b[0m\u001b[0m\n\u001b[1;32m--> 422\u001b[1;33m             \u001b[1;32mreturn\u001b[0m \u001b[0mif_false\u001b[0m\u001b[1;33m(\u001b[0m\u001b[1;33m*\u001b[0m\u001b[0margs\u001b[0m\u001b[1;33m,\u001b[0m \u001b[1;33m**\u001b[0m\u001b[0mkwargs\u001b[0m\u001b[1;33m)\u001b[0m\u001b[1;33m\u001b[0m\u001b[1;33m\u001b[0m\u001b[0m\n\u001b[0m\u001b[0;32m    423\u001b[0m \u001b[1;33m\u001b[0m\u001b[0m\n\u001b[0;32m    424\u001b[0m     \u001b[1;32mif\u001b[0m \u001b[0mif_true\u001b[0m\u001b[1;33m.\u001b[0m\u001b[0m__doc__\u001b[0m \u001b[1;32mis\u001b[0m \u001b[1;32mNone\u001b[0m \u001b[1;32mand\u001b[0m \u001b[0mif_false\u001b[0m\u001b[1;33m.\u001b[0m\u001b[0m__doc__\u001b[0m \u001b[1;32mis\u001b[0m \u001b[1;32mnot\u001b[0m \u001b[1;32mNone\u001b[0m\u001b[1;33m:\u001b[0m\u001b[1;33m\u001b[0m\u001b[1;33m\u001b[0m\u001b[0m\n",
      "\u001b[1;32m~\\anaconda3\\envs\\deeplearning\\lib\\site-packages\\torch\\nn\\functional.py\u001b[0m in \u001b[0;36m_max_pool2d\u001b[1;34m(input, kernel_size, stride, padding, dilation, ceil_mode, return_indices)\u001b[0m\n\u001b[0;32m    717\u001b[0m     \u001b[1;32mif\u001b[0m \u001b[0mstride\u001b[0m \u001b[1;32mis\u001b[0m \u001b[1;32mNone\u001b[0m\u001b[1;33m:\u001b[0m\u001b[1;33m\u001b[0m\u001b[1;33m\u001b[0m\u001b[0m\n\u001b[0;32m    718\u001b[0m         \u001b[0mstride\u001b[0m \u001b[1;33m=\u001b[0m \u001b[0mtorch\u001b[0m\u001b[1;33m.\u001b[0m\u001b[0mjit\u001b[0m\u001b[1;33m.\u001b[0m\u001b[0mannotate\u001b[0m\u001b[1;33m(\u001b[0m\u001b[0mList\u001b[0m\u001b[1;33m[\u001b[0m\u001b[0mint\u001b[0m\u001b[1;33m]\u001b[0m\u001b[1;33m,\u001b[0m \u001b[1;33m[\u001b[0m\u001b[1;33m]\u001b[0m\u001b[1;33m)\u001b[0m\u001b[1;33m\u001b[0m\u001b[1;33m\u001b[0m\u001b[0m\n\u001b[1;32m--> 719\u001b[1;33m     \u001b[1;32mreturn\u001b[0m \u001b[0mtorch\u001b[0m\u001b[1;33m.\u001b[0m\u001b[0mmax_pool2d\u001b[0m\u001b[1;33m(\u001b[0m\u001b[0minput\u001b[0m\u001b[1;33m,\u001b[0m \u001b[0mkernel_size\u001b[0m\u001b[1;33m,\u001b[0m \u001b[0mstride\u001b[0m\u001b[1;33m,\u001b[0m \u001b[0mpadding\u001b[0m\u001b[1;33m,\u001b[0m \u001b[0mdilation\u001b[0m\u001b[1;33m,\u001b[0m \u001b[0mceil_mode\u001b[0m\u001b[1;33m)\u001b[0m\u001b[1;33m\u001b[0m\u001b[1;33m\u001b[0m\u001b[0m\n\u001b[0m\u001b[0;32m    720\u001b[0m \u001b[1;33m\u001b[0m\u001b[0m\n\u001b[0;32m    721\u001b[0m \u001b[1;33m\u001b[0m\u001b[0m\n",
      "\u001b[1;31mRuntimeError\u001b[0m: Given input size: (400x1x1). Calculated output size: (400x0x0). Output size is too small"
     ]
    }
   ],
   "source": [
    "mp = nn.functional.max_pool2d(output,\n",
    "                            kernel_size=(word_cnn_out3.size(2), 76)).view(word_cnn_out3.size(0), 400)"
   ]
  },
  {
   "cell_type": "code",
   "execution_count": null,
   "id": "75807999-d507-49e2-9be8-2431a0f6c96b",
   "metadata": {},
   "outputs": [],
   "source": [
    "mp.size()"
   ]
  },
  {
   "cell_type": "code",
   "execution_count": 47,
   "id": "8bf23874-2b6d-49a2-bf13-6c176daba195",
   "metadata": {},
   "outputs": [],
   "source": [
    "b = torch.randn(11,400,1,1)"
   ]
  },
  {
   "cell_type": "code",
   "execution_count": 48,
   "id": "2236a5fc-b77b-46d6-a347-ac165b39af8f",
   "metadata": {},
   "outputs": [
    {
     "data": {
      "text/plain": [
       "torch.Size([11, 400, 1, 1])"
      ]
     },
     "execution_count": 48,
     "metadata": {},
     "output_type": "execute_result"
    }
   ],
   "source": [
    "b.size()"
   ]
  },
  {
   "cell_type": "code",
   "execution_count": 49,
   "id": "2eb28797-def8-4711-8c7a-e08514059fbd",
   "metadata": {},
   "outputs": [],
   "source": [
    "c = b.squeeze(2)"
   ]
  },
  {
   "cell_type": "code",
   "execution_count": 50,
   "id": "3dd621c4-591e-4ffe-8ae6-5be53f451c6e",
   "metadata": {},
   "outputs": [
    {
     "data": {
      "text/plain": [
       "torch.Size([11, 400, 1])"
      ]
     },
     "execution_count": 50,
     "metadata": {},
     "output_type": "execute_result"
    }
   ],
   "source": [
    "c.squeeze(1).size()"
   ]
  },
  {
   "cell_type": "code",
   "execution_count": 51,
   "id": "b033f8a5-af77-4dd6-a49b-a06dc112c7f9",
   "metadata": {},
   "outputs": [
    {
     "data": {
      "text/plain": [
       "torch.Size([11, 400, 1])"
      ]
     },
     "execution_count": 51,
     "metadata": {},
     "output_type": "execute_result"
    }
   ],
   "source": [
    "b.squeeze(2).size()"
   ]
  },
  {
   "cell_type": "code",
   "execution_count": null,
   "id": "6bdd8053-f4bf-4f1d-a918-6fd3a15a2f10",
   "metadata": {},
   "outputs": [],
   "source": [
    "b"
   ]
  },
  {
   "cell_type": "code",
   "execution_count": 58,
   "id": "c898a8e4-73ef-4def-abee-76eda7f1f761",
   "metadata": {},
   "outputs": [],
   "source": [
    "import time\n",
    "atime = time.time()"
   ]
  },
  {
   "cell_type": "code",
   "execution_count": 59,
   "id": "bdf0b8a1-ddbe-410a-95e2-0feb0c3bfb49",
   "metadata": {},
   "outputs": [],
   "source": [
    "import time\n",
    "btime =time.time()"
   ]
  },
  {
   "cell_type": "code",
   "execution_count": 60,
   "id": "5cf68b99-d93a-4f50-8374-4eb012ef6ca5",
   "metadata": {},
   "outputs": [
    {
     "data": {
      "text/plain": [
       "0.6775588989257812"
      ]
     },
     "execution_count": 60,
     "metadata": {},
     "output_type": "execute_result"
    }
   ],
   "source": [
    "btime - atime"
   ]
  },
  {
   "cell_type": "code",
   "execution_count": 61,
   "id": "22d36c20-6a1f-4a83-8293-ee02c0cb06b4",
   "metadata": {},
   "outputs": [
    {
     "data": {
      "text/plain": [
       "3"
      ]
     },
     "execution_count": 61,
     "metadata": {},
     "output_type": "execute_result"
    }
   ],
   "source": [
    "13//4"
   ]
  },
  {
   "cell_type": "code",
   "execution_count": 4,
   "id": "1ee2d96f-3f85-445e-96a1-61e3314d78b0",
   "metadata": {},
   "outputs": [],
   "source": [
    "word_cnn_out3 = torch.randn(26, 400, 1, 21)"
   ]
  },
  {
   "cell_type": "code",
   "execution_count": 12,
   "id": "2c57a241-001f-4c2d-98ee-1ee230c69283",
   "metadata": {},
   "outputs": [],
   "source": [
    "word_cnn_out3 = word_cnn_out3.squeeze(2)"
   ]
  },
  {
   "cell_type": "code",
   "execution_count": 14,
   "id": "a9e01bba-324d-472c-ba84-a395176f7797",
   "metadata": {},
   "outputs": [
    {
     "data": {
      "text/plain": [
       "torch.Size([26, 400, 21])"
      ]
     },
     "execution_count": 14,
     "metadata": {},
     "output_type": "execute_result"
    }
   ],
   "source": [
    "word_cnn_out3.size()"
   ]
  },
  {
   "cell_type": "code",
   "execution_count": 15,
   "id": "164d007b-3f37-4fe6-b6bf-359c8429347e",
   "metadata": {},
   "outputs": [],
   "source": [
    "word_cnn_out3 = word_cnn_out3.unsqueeze(3)"
   ]
  },
  {
   "cell_type": "code",
   "execution_count": 19,
   "id": "774f5d31-3f17-474f-abd7-fe77e2e995a5",
   "metadata": {},
   "outputs": [],
   "source": [
    "word_embeds = nn.functional.max_pool2d(word_cnn_out3,\n",
    "                             kernel_size=(word_cnn_out3.size(2), 1)).view(word_cnn_out3.size(0), 400)"
   ]
  },
  {
   "cell_type": "code",
   "execution_count": 20,
   "id": "765d887e-222a-4b72-9446-be5691e6065f",
   "metadata": {},
   "outputs": [
    {
     "data": {
      "text/plain": [
       "torch.Size([26, 400])"
      ]
     },
     "execution_count": 20,
     "metadata": {},
     "output_type": "execute_result"
    }
   ],
   "source": [
    "word_embeds.size()"
   ]
  },
  {
   "cell_type": "code",
   "execution_count": null,
   "id": "79c79fde-fcb2-4aa5-907d-a29009222020",
   "metadata": {},
   "outputs": [],
   "source": []
  }
 ],
 "metadata": {
  "kernelspec": {
   "display_name": "Python 3 (ipykernel)",
   "language": "python",
   "name": "python3"
  },
  "language_info": {
   "codemirror_mode": {
    "name": "ipython",
    "version": 3
   },
   "file_extension": ".py",
   "mimetype": "text/x-python",
   "name": "python",
   "nbconvert_exporter": "python",
   "pygments_lexer": "ipython3",
   "version": "3.9.7"
  }
 },
 "nbformat": 4,
 "nbformat_minor": 5
}
